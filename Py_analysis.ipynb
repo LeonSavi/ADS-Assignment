{
 "cells": [
  {
   "cell_type": "code",
   "execution_count": null,
   "id": "0a9c0957-09cf-4e90-b95a-7f4ea9e92a6e",
   "metadata": {},
   "outputs": [],
   "source": [
    "import sqlite3\n",
    "import pandas as pd\n",
    "from difflib import SequenceMatcher\n",
    "import itertools\n",
    "\n",
    "\n",
    "conn = sqlite3.connect(\"trades.db\") \n",
    "cursor = conn.cursor()\n",
    "\n",
    "# --- Step 2: Load the trades.sql file into the database ---\n",
    "with open(\"trades.sql\", \"r\") as f:\n",
    "    sql_script = f.read()\n",
    "cursor.executescript(sql_script)\n",
    "conn.commit()\n",
    "\n",
    "# --- Step 3: Read the customer table into a Pandas DataFrame ---\n",
    "df = pd.read_sql_query(\"SELECT * FROM customer\", conn)\n",
    "print(\"Customer table:\")\n",
    "print(df.head())\n",
    "\n",
    "# --- Step 4: Define similarity function ---\n",
    "def record_similarity(r1, r2):\n",
    "    \"\"\"\n",
    "    Simple similarity: average SequenceMatcher ratios\n",
    "    across string-type fields only.\n",
    "    \"\"\"\n",
    "    sims = []\n",
    "    for col in df.columns:\n",
    "        v1, v2 = str(r1[col]), str(r2[col])\n",
    "        sims.append(SequenceMatcher(None, v1, v2).ratio())\n",
    "    return sum(sims) / len(sims)\n",
    "\n",
    "# --- Step 5: Compare all pairs of customers ---\n",
    "similar_pairs = []\n",
    "for i, j in itertools.combinations(df.index, 2):\n",
    "    sim = record_similarity(df.loc[i], df.loc[j])\n",
    "    if sim > 0.7:\n",
    "        similar_pairs.append((i, j, sim))\n",
    "\n",
    "# Report results\n",
    "print(\"\\nCustomers with similarity > 0.7:\")\n",
    "for i, j, sim in similar_pairs:\n",
    "    print(f\"Customer {i} and {j} → similarity {sim:.2f}\")\n"
   ]
  }
 ],
 "metadata": {
  "kernelspec": {
   "display_name": "Python [conda env:base] *",
   "language": "python",
   "name": "conda-base-py"
  },
  "language_info": {
   "codemirror_mode": {
    "name": "ipython",
    "version": 3
   },
   "file_extension": ".py",
   "mimetype": "text/x-python",
   "name": "python",
   "nbconvert_exporter": "python",
   "pygments_lexer": "ipython3",
   "version": "3.12.7"
  }
 },
 "nbformat": 4,
 "nbformat_minor": 5
}
