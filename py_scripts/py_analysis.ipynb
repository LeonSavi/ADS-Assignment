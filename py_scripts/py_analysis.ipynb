{
 "cells": [
  {
   "cell_type": "code",
   "execution_count": 17,
   "id": "0a9c0957-09cf-4e90-b95a-7f4ea9e92a6e",
   "metadata": {},
   "outputs": [],
   "source": [
    "import sqlite3\n",
    "import pandas as pd\n",
    "from difflib import SequenceMatcher\n",
    "import itertools\n",
    "import numpy as np\n",
    "import os\n",
    "from typing import Generator\n",
    "\n",
    "os.chdir(os.getcwd().removesuffix('py_scripts'))"
   ]
  },
  {
   "cell_type": "code",
   "execution_count": 18,
   "id": "e051a1c9",
   "metadata": {},
   "outputs": [
    {
     "name": "stdout",
     "output_type": "stream",
     "text": [
      "Customer table:\n"
     ]
    },
    {
     "data": {
      "application/vnd.microsoft.datawrangler.viewer.v0+json": {
       "columns": [
        {
         "name": "index",
         "rawType": "int64",
         "type": "integer"
        },
        {
         "name": "customer_id",
         "rawType": "int64",
         "type": "integer"
        },
        {
         "name": "company_name",
         "rawType": "object",
         "type": "string"
        },
        {
         "name": "sector_code",
         "rawType": "object",
         "type": "string"
        },
        {
         "name": "country",
         "rawType": "object",
         "type": "string"
        },
        {
         "name": "street",
         "rawType": "object",
         "type": "string"
        },
        {
         "name": "house_number",
         "rawType": "object",
         "type": "string"
        },
        {
         "name": "zip_code",
         "rawType": "object",
         "type": "string"
        },
        {
         "name": "city",
         "rawType": "object",
         "type": "string"
        }
       ],
       "ref": "77891b64-da12-4842-8732-6280ad63c003",
       "rows": [
        [
         "0",
         "1",
         "TechRetail BV",
         "S03",
         "NL",
         "Keizersgracht",
         "221",
         "1016AP",
         "Amsterdam"
        ],
        [
         "1",
         "2",
         "FinBank AG",
         "S01",
         "DE",
         "Unter den Linden",
         "45",
         "10117",
         "Berlin"
        ],
        [
         "2",
         "3",
         "MedTech SA",
         "S06",
         "FR",
         "Rue Lafayette",
         "12",
         "75009",
         "Paris"
        ],
        [
         "3",
         "4",
         "EduGlobal BV",
         "S07",
         "NL",
         "Damrak",
         "50",
         "1012AP",
         "Amsterdam"
        ],
        [
         "4",
         "5",
         "LogiTrans GmbH",
         "S05",
         "DE",
         "Friedrichstrasse",
         "60",
         "10117",
         "Berlin"
        ]
       ],
       "shape": {
        "columns": 8,
        "rows": 5
       }
      },
      "text/html": [
       "<div>\n",
       "<style scoped>\n",
       "    .dataframe tbody tr th:only-of-type {\n",
       "        vertical-align: middle;\n",
       "    }\n",
       "\n",
       "    .dataframe tbody tr th {\n",
       "        vertical-align: top;\n",
       "    }\n",
       "\n",
       "    .dataframe thead th {\n",
       "        text-align: right;\n",
       "    }\n",
       "</style>\n",
       "<table border=\"1\" class=\"dataframe\">\n",
       "  <thead>\n",
       "    <tr style=\"text-align: right;\">\n",
       "      <th></th>\n",
       "      <th>customer_id</th>\n",
       "      <th>company_name</th>\n",
       "      <th>sector_code</th>\n",
       "      <th>country</th>\n",
       "      <th>street</th>\n",
       "      <th>house_number</th>\n",
       "      <th>zip_code</th>\n",
       "      <th>city</th>\n",
       "    </tr>\n",
       "  </thead>\n",
       "  <tbody>\n",
       "    <tr>\n",
       "      <th>0</th>\n",
       "      <td>1</td>\n",
       "      <td>TechRetail BV</td>\n",
       "      <td>S03</td>\n",
       "      <td>NL</td>\n",
       "      <td>Keizersgracht</td>\n",
       "      <td>221</td>\n",
       "      <td>1016AP</td>\n",
       "      <td>Amsterdam</td>\n",
       "    </tr>\n",
       "    <tr>\n",
       "      <th>1</th>\n",
       "      <td>2</td>\n",
       "      <td>FinBank AG</td>\n",
       "      <td>S01</td>\n",
       "      <td>DE</td>\n",
       "      <td>Unter den Linden</td>\n",
       "      <td>45</td>\n",
       "      <td>10117</td>\n",
       "      <td>Berlin</td>\n",
       "    </tr>\n",
       "    <tr>\n",
       "      <th>2</th>\n",
       "      <td>3</td>\n",
       "      <td>MedTech SA</td>\n",
       "      <td>S06</td>\n",
       "      <td>FR</td>\n",
       "      <td>Rue Lafayette</td>\n",
       "      <td>12</td>\n",
       "      <td>75009</td>\n",
       "      <td>Paris</td>\n",
       "    </tr>\n",
       "    <tr>\n",
       "      <th>3</th>\n",
       "      <td>4</td>\n",
       "      <td>EduGlobal BV</td>\n",
       "      <td>S07</td>\n",
       "      <td>NL</td>\n",
       "      <td>Damrak</td>\n",
       "      <td>50</td>\n",
       "      <td>1012AP</td>\n",
       "      <td>Amsterdam</td>\n",
       "    </tr>\n",
       "    <tr>\n",
       "      <th>4</th>\n",
       "      <td>5</td>\n",
       "      <td>LogiTrans GmbH</td>\n",
       "      <td>S05</td>\n",
       "      <td>DE</td>\n",
       "      <td>Friedrichstrasse</td>\n",
       "      <td>60</td>\n",
       "      <td>10117</td>\n",
       "      <td>Berlin</td>\n",
       "    </tr>\n",
       "  </tbody>\n",
       "</table>\n",
       "</div>"
      ],
      "text/plain": [
       "   customer_id    company_name sector_code country            street  \\\n",
       "0            1   TechRetail BV         S03      NL     Keizersgracht   \n",
       "1            2      FinBank AG         S01      DE  Unter den Linden   \n",
       "2            3      MedTech SA         S06      FR     Rue Lafayette   \n",
       "3            4    EduGlobal BV         S07      NL            Damrak   \n",
       "4            5  LogiTrans GmbH         S05      DE  Friedrichstrasse   \n",
       "\n",
       "  house_number zip_code       city  \n",
       "0          221   1016AP  Amsterdam  \n",
       "1           45    10117     Berlin  \n",
       "2           12    75009      Paris  \n",
       "3           50   1012AP  Amsterdam  \n",
       "4           60    10117     Berlin  "
      ]
     },
     "execution_count": 18,
     "metadata": {},
     "output_type": "execute_result"
    }
   ],
   "source": [
    "conn = sqlite3.connect(\"database/trades.db\") \n",
    "cursor = conn.cursor()\n",
    "\n",
    "# --- Step 2: (a) Load the trades.sql file into the database ---\n",
    "with open(\"sql_scripts/trades.sql\", \"r\") as f:\n",
    "    sql_script = f.read()\n",
    "cursor.executescript(sql_script)\n",
    "conn.commit()\n",
    "\n",
    "# --- Step 3: (b) Read the customer table into a Pandas DataFrame ---\n",
    "df = pd.read_sql_query(\"SELECT * FROM customer\", conn)\n",
    "print(\"Customer table:\")\n",
    "df.head()"
   ]
  },
  {
   "cell_type": "code",
   "execution_count": 19,
   "id": "7d6c816f",
   "metadata": {},
   "outputs": [],
   "source": [
    "\n",
    "# --- Step 4: (c) Define similarity functions ---\n",
    "def jaro(s, t):\n",
    "    '''Computes the Jaro similarity between two strings.\n",
    "    The score ranges from 0 (low) to 1 (high),\n",
    "    based on the number and order of matching characters\n",
    "    and the number of transpositions.'''\n",
    "\n",
    "    if not (isinstance(s,str) or isinstance(t,str)):\n",
    "        raise ValueError('At least one of the inputs is not a string')\n",
    "    \n",
    "    s_len = len(s)\n",
    "    t_len = len(t)\n",
    " \n",
    "    if s_len == 0 and t_len == 0:\n",
    "        return 1\n",
    " \n",
    "    match_distance = (max(s_len, t_len) // 2) - 1\n",
    " \n",
    "    s_matches = [False] * s_len\n",
    "    t_matches = [False] * t_len\n",
    " \n",
    "    matches = 0\n",
    "    transpositions = 0\n",
    " \n",
    "    for i in range(s_len):\n",
    "        start = max(0, i - match_distance)\n",
    "        end = min(i + match_distance + 1, t_len)\n",
    " \n",
    "        for j in range(start, end):\n",
    "            if t_matches[j]:\n",
    "                continue\n",
    "            if s[i] != t[j]:\n",
    "                continue\n",
    "            s_matches[i] = True\n",
    "            t_matches[j] = True\n",
    "            matches += 1\n",
    "            break\n",
    " \n",
    "    if matches == 0:\n",
    "        return 0\n",
    " \n",
    "    k = 0\n",
    "    for i in range(s_len):\n",
    "        if not s_matches[i]:\n",
    "            continue\n",
    "        while not t_matches[k]:\n",
    "            k += 1\n",
    "        if s[i] != t[k]:\n",
    "            transpositions += 1\n",
    "        k += 1\n",
    " \n",
    "    return ((matches / s_len) +\n",
    "            (matches / t_len) +\n",
    "            ((matches - transpositions / 2) / matches)) / 3\n",
    "\n",
    "def jaro_winkler(s, t, p = 0.1):\n",
    "    '''Computes the Jaro–Winkler similarity between two strings.\n",
    "    Extends Jaro by giving higher scores to strings that share\n",
    "    a common prefix, which makes it well-suited for names.'''\n",
    "    \n",
    "    jaro_sim = jaro(s, t)\n",
    "    ls = len(s)\n",
    "    lt = len(t)\n",
    "    min_l = min(ls, lt)\n",
    "\n",
    "    l = 0\n",
    "    for i in range(min_l):\n",
    "        if s[i] == t[i]:\n",
    "            l += 1\n",
    "        else:\n",
    "            break\n",
    "    L = min(l, 4)\n",
    "\n",
    "    return (jaro_sim + ( L * p * (1 - jaro_sim) ))\n",
    "\n",
    "\n",
    "def ldist_mod(str1: str, str2: str, cost: int = 2) -> int:\n",
    "    '''Levenshtein distance between two strings. The distance is the\n",
    "    minimum number of insertions, deletions, or substitutions\n",
    "    required to transform one string into the other. The substitution\n",
    "    cost can be adjusted with the cost parameter.'''\n",
    "\n",
    "    if not (isinstance(str1,str) or isinstance(str2,str)):\n",
    "        raise ValueError('At least one of the inputs is not a string')\n",
    "        \n",
    "    l1, l2 = len(str1), len(str2)\n",
    "    mtx = np.zeros((l1+1, l2+1), dtype=int)\n",
    "\n",
    "    for i in range(l1+1):\n",
    "        mtx[i][0] = i\n",
    "    for j in range(l2+1):\n",
    "        mtx[0][j] = j\n",
    "\n",
    "    for idx1, c1 in enumerate(str1, start=1):\n",
    "        for idx2, c2 in enumerate(str2, start=1):\n",
    "            deli = mtx[idx1-1][idx2] + 1\n",
    "            inse = mtx[idx1][idx2-1] + 1\n",
    "            subs = mtx[idx1-1][idx2-1] + (cost if c1 != c2 else 0)\n",
    "            mtx[idx1][idx2] = min(deli, inse, subs)\n",
    "\n",
    "    return mtx[l1][l2]\n",
    "\n",
    "\n",
    "# Alternative Methodology\n",
    "def ratcliff_obershelp(r1, r2):\n",
    "    \"\"\"\n",
    "    Simple similarity: average SequenceMatcher ratios\n",
    "    across string-type fields only. -> Ratcliff/Obershelp\n",
    "    \"\"\"\n",
    "    sims = []\n",
    "    for col in df.columns:\n",
    "        v1, v2 = str(r1[col]), str(r2[col])\n",
    "        sims.append(SequenceMatcher(None, v1, v2).ratio())\n",
    "    return sum(sims) / len(sims)\n"
   ]
  },
  {
   "cell_type": "code",
   "execution_count": null,
   "id": "931a3276",
   "metadata": {},
   "outputs": [],
   "source": [
    "# assign weights to fields\n",
    "def get_weights(df:pd.DataFrame) -> dict:\n",
    "    'Assign equally weights to columns'\n",
    "    temp = df.select_dtypes(include=['object', 'string']).columns.tolist()\n",
    "    return {i:1/len(temp) for i in temp}\n",
    "\n",
    "def row_similarity(r1:str, r2:str, method:str='jaro_winkler', weights:dict=None) -> Generator:\n",
    "    sims = []\n",
    "    for col in weights.keys():\n",
    "        v1, v2 = str(r1[col]), str(r2[col])\n",
    "        if method == 'jaro_winkler':\n",
    "            sims.append(jaro_winkler(v1, v2))\n",
    "        elif method == 'ratcliff':\n",
    "            sims.append(SequenceMatcher(None, v1, v2).ratio())\n",
    "        else:\n",
    "            raise ValueError(f\"Not implemented yet or Unknown method: {method}\")\n",
    "    # weighted average\n",
    "    return sum(s * weights[col] for s, col in zip(sims, weights.keys()))\n",
    "\n",
    "def compare_all_pairs(df:pd.DataFrame, weights:dict, method:str='jaro_winkler'):\n",
    "    results = []\n",
    "    n = len(df)\n",
    "    for i in range(n):\n",
    "        for j in range(i+1, n):\n",
    "            sim = row_similarity(df.iloc[i], df.iloc[j], method, weights)\n",
    "            results.append({'row1': i, 'row2': j, 'similarity': sim})\n",
    "    return pd.DataFrame(results)"
   ]
  },
  {
   "cell_type": "code",
   "execution_count": 39,
   "id": "9ffd6c8c",
   "metadata": {},
   "outputs": [
    {
     "data": {
      "application/vnd.microsoft.datawrangler.viewer.v0+json": {
       "columns": [
        {
         "name": "index",
         "rawType": "int64",
         "type": "integer"
        },
        {
         "name": "row1",
         "rawType": "int64",
         "type": "integer"
        },
        {
         "name": "row2",
         "rawType": "int64",
         "type": "integer"
        },
        {
         "name": "similarity",
         "rawType": "float64",
         "type": "float"
        }
       ],
       "ref": "6e1c0488-d052-4e30-9e84-f174d509ad3d",
       "rows": [
        [
         "6",
         "0",
         "7",
         "0.766546310832025"
        ],
        [
         "33",
         "3",
         "7",
         "0.7357142857142858"
        ],
        [
         "65",
         "10",
         "11",
         "0.9010204081632653"
        ]
       ],
       "shape": {
        "columns": 3,
        "rows": 3
       }
      },
      "text/html": [
       "<div>\n",
       "<style scoped>\n",
       "    .dataframe tbody tr th:only-of-type {\n",
       "        vertical-align: middle;\n",
       "    }\n",
       "\n",
       "    .dataframe tbody tr th {\n",
       "        vertical-align: top;\n",
       "    }\n",
       "\n",
       "    .dataframe thead th {\n",
       "        text-align: right;\n",
       "    }\n",
       "</style>\n",
       "<table border=\"1\" class=\"dataframe\">\n",
       "  <thead>\n",
       "    <tr style=\"text-align: right;\">\n",
       "      <th></th>\n",
       "      <th>row1</th>\n",
       "      <th>row2</th>\n",
       "      <th>similarity</th>\n",
       "    </tr>\n",
       "  </thead>\n",
       "  <tbody>\n",
       "    <tr>\n",
       "      <th>6</th>\n",
       "      <td>0</td>\n",
       "      <td>7</td>\n",
       "      <td>0.766546</td>\n",
       "    </tr>\n",
       "    <tr>\n",
       "      <th>33</th>\n",
       "      <td>3</td>\n",
       "      <td>7</td>\n",
       "      <td>0.735714</td>\n",
       "    </tr>\n",
       "    <tr>\n",
       "      <th>65</th>\n",
       "      <td>10</td>\n",
       "      <td>11</td>\n",
       "      <td>0.901020</td>\n",
       "    </tr>\n",
       "  </tbody>\n",
       "</table>\n",
       "</div>"
      ],
      "text/plain": [
       "    row1  row2  similarity\n",
       "6      0     7    0.766546\n",
       "33     3     7    0.735714\n",
       "65    10    11    0.901020"
      ]
     },
     "execution_count": 39,
     "metadata": {},
     "output_type": "execute_result"
    }
   ],
   "source": [
    "weights = get_weights(df)\n",
    "df_jw = compare_all_pairs(df,weights,method='jaro_winkler')\n",
    "df_jw[df_jw.similarity>0.7]"
   ]
  },
  {
   "cell_type": "code",
   "execution_count": 22,
   "id": "c091d7a9",
   "metadata": {},
   "outputs": [
    {
     "data": {
      "text/plain": [
       "[(10, 11, 0.7963235294117648)]"
      ]
     },
     "execution_count": 22,
     "metadata": {},
     "output_type": "execute_result"
    }
   ],
   "source": [
    "\n",
    "# --- Step 5: (c) Compare all pairs of customers ---\n",
    "ro_similar_pairs = []\n",
    "for i, j in itertools.combinations(df.index, 2):\n",
    "    sim = ratcliff_obershelp(df.loc[i], df.loc[j])\n",
    "    if sim > 0.7:\n",
    "        ro_similar_pairs.append((i, j, sim))\n",
    "\n",
    "ro_similar_pairs"
   ]
  },
  {
   "cell_type": "code",
   "execution_count": 23,
   "id": "02eedbc9",
   "metadata": {},
   "outputs": [
    {
     "name": "stdout",
     "output_type": "stream",
     "text": [
      "\n",
      "Customers with similarity > 0.7:\n",
      "\n",
      "Customer 10 and 11 → similarity 0.80\n",
      "    customer_id company_name sector_code country    street house_number  \\\n",
      "10           11   Intesa SPA         S01      IT  Via Roma          10A   \n",
      "11           12      BPM SPA         S01      IT  Via Roma           13   \n",
      "\n",
      "   zip_code   city  \n",
      "10     6200  Milan  \n",
      "11     6200  Milan   \n",
      "\n"
     ]
    }
   ],
   "source": [
    "\n",
    "# Report results\n",
    "print(\"\\nCustomers with similarity > 0.7:\\n\")\n",
    "\n",
    "for i, j, sim in ro_similar_pairs:\n",
    "    print(f\"Customer {i} and {j} → similarity {sim:.2f}\")\n",
    "    print(df.iloc[[i,j],:],'\\n')\n"
   ]
  }
 ],
 "metadata": {
  "kernelspec": {
   "display_name": "assignment-1",
   "language": "python",
   "name": "python3"
  },
  "language_info": {
   "codemirror_mode": {
    "name": "ipython",
    "version": 3
   },
   "file_extension": ".py",
   "mimetype": "text/x-python",
   "name": "python",
   "nbconvert_exporter": "python",
   "pygments_lexer": "ipython3",
   "version": "3.11.13"
  }
 },
 "nbformat": 4,
 "nbformat_minor": 5
}
